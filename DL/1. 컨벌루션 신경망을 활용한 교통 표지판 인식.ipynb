{
 "cells": [
  {
   "cell_type": "code",
   "execution_count": 6,
   "id": "d6400af3",
   "metadata": {},
   "outputs": [
    {
     "name": "stdout",
     "output_type": "stream",
     "text": [
      "(39209, 32, 32, 1)\n",
      "(39209, 43)\n"
     ]
    }
   ],
   "source": [
    "N_CLASSES = 43\n",
    "RESIZED_IMAGE = (32, 32)\n",
    "\n",
    "import matplotlib.pyplot as plt\n",
    "import glob\n",
    "from skimage.color import rgb2lab\n",
    "from skimage.transform import resize\n",
    "from collections import namedtuple\n",
    "import numpy as np\n",
    "np.random.seed(101)\n",
    "%matplotlib inline\n",
    "\n",
    "Dataset = namedtuple('Dataset', ['X', 'y'])\n",
    "\n",
    "def to_tf_format(imgs):\n",
    "    return np.stack([img[:, :, np.newaxis] for img in imgs], axis=0).astype(np.float32)\n",
    "\n",
    "def read_dataset_ppm(rootpath, n_labels, resize_to):\n",
    "  images = []\n",
    "  labels = []\n",
    "  \n",
    "  for c in range(n_labels):\n",
    "    full_path = rootpath + '/' + format(c, '05d') + '/'\n",
    "    for img_name in glob.glob(full_path + \"*.ppm\"):\n",
    "      \n",
    "      img = plt.imread(img_name).astype(np.float32)\n",
    "      img = rgb2lab(img / 255.0)[:,:,0]\n",
    "      if resize_to:\n",
    "        img = resize(img, resize_to, mode='reflect')\n",
    "      \n",
    "      label = np.zeros((n_labels, ), dtype=np.float32)\n",
    "      label[c] = 1.0\n",
    "      \n",
    "      images.append(img.astype(np.float32))\n",
    "      labels.append(label)\n",
    "\n",
    "  return Dataset(X = to_tf_format(images).astype(np.float32),\n",
    "                 y = np.matrix(labels).astype(np.float32))\n",
    "\n",
    "dataset = read_dataset_ppm('GTSRB/Final_Training/Images', N_CLASSES, RESIZED_IMAGE)\n",
    "print(dataset.X.shape)\n",
    "print(dataset.y.shape)"
   ]
  },
  {
   "cell_type": "code",
   "execution_count": 7,
   "id": "1fc8ad9a",
   "metadata": {},
   "outputs": [
    {
     "name": "stdout",
     "output_type": "stream",
     "text": [
      "[[1. 0. 0. 0. 0. 0. 0. 0. 0. 0. 0. 0. 0. 0. 0. 0. 0. 0. 0. 0. 0. 0. 0. 0.\n",
      "  0. 0. 0. 0. 0. 0. 0. 0. 0. 0. 0. 0. 0. 0. 0. 0. 0. 0. 0.]]\n"
     ]
    },
    {
     "data": {
      "image/png": "[encoded data removed]",
      "text/plain": [
       "<Figure size 432x288 with 1 Axes>"
      ]
     },
     "metadata": {
      "needs_background": "light"
     },
     "output_type": "display_data"
    }
   ],
   "source": [
    "plt.imshow(dataset.X[0, :, :, :].reshape(RESIZED_IMAGE)) #sample\n",
    "print(dataset.y[0, :])"
   ]
  },
  {
   "cell_type": "code",
   "execution_count": 8,
   "id": "1415d605",
   "metadata": {},
   "outputs": [
    {
     "name": "stdout",
     "output_type": "stream",
     "text": [
      "[[0. 0. 0. 0. 0. 0. 0. 0. 0. 0. 0. 0. 0. 0. 0. 0. 0. 0. 0. 0. 0. 0. 0. 0.\n",
      "  0. 0. 0. 0. 0. 0. 0. 0. 0. 0. 0. 0. 0. 0. 0. 0. 0. 0. 1.]]\n"
     ]
    },
    {
     "data": {
      "image/png": "[encoded data removed]",
      "text/plain": [
       "<Figure size 432x288 with 1 Axes>"
      ]
     },
     "metadata": {
      "needs_background": "light"
     },
     "output_type": "display_data"
    }
   ],
   "source": [
    "plt.imshow(dataset.X[-1, :, :, :].reshape(RESIZED_IMAGE)) #sample\n",
    "print(dataset.y[-1, :])"
   ]
  },
  {
   "cell_type": "code",
   "execution_count": 9,
   "id": "07bb8d74",
   "metadata": {},
   "outputs": [
    {
     "name": "stdout",
     "output_type": "stream",
     "text": [
      "(29406, 32, 32, 1)\n",
      "(29406, 43)\n",
      "(9803, 32, 32, 1)\n",
      "(9803, 43)\n"
     ]
    }
   ],
   "source": [
    "from sklearn.model_selection import train_test_split\n",
    "idx_train, idx_test = train_test_split(range(dataset.X.shape[0]), test_size=0.25, random_state=101)\n",
    "X_train = dataset.X[idx_train, :, :, :]\n",
    "X_test = dataset.X[idx_test, :, :, :]\n",
    "y_train = dataset.y[idx_train, :]\n",
    "y_test = dataset.y[idx_test, :]\n",
    "\n",
    "print(X_train.shape)\n",
    "print(y_train.shape)\n",
    "print(X_test.shape)\n",
    "print(y_test.shape)"
   ]
  },
  {
   "cell_type": "code",
   "execution_count": 10,
   "id": "9ff65020",
   "metadata": {},
   "outputs": [],
   "source": [
    "def minibatcher(X, y, batch_size, shuffle):\n",
    "    assert X.shape[0] == y.shape[0]\n",
    "    n_samples = X.shape[0]\n",
    "    \n",
    "    if shuffle:\n",
    "        idx = np.random.permutation(n_samples)\n",
    "    else:\n",
    "        idx = list(range(n_samples))\n",
    "    \n",
    "    for k in range(int(np.ceil(n_samples/batch_size))):\n",
    "        from_idx = k * batch_size\n",
    "        to_idx = (k+1) * batch_size\n",
    "        yield X[idx[from_idx : to_idx], :, :, :], y[idx[from_idx : to_idx], :]"
   ]
  },
  {
   "cell_type": "code",
   "execution_count": 11,
   "id": "4678af85",
   "metadata": {},
   "outputs": [
    {
     "name": "stdout",
     "output_type": "stream",
     "text": [
      "(10000, 32, 32, 1) (10000, 43)\n",
      "(10000, 32, 32, 1) (10000, 43)\n",
      "(9406, 32, 32, 1) (9406, 43)\n"
     ]
    }
   ],
   "source": [
    "for mb in minibatcher(X_train, y_train, 10000, True):\n",
    "    print(mb[0].shape, mb[1].shape)"
   ]
  },
  {
   "cell_type": "code",
   "execution_count": 44,
   "id": "3b2466c3",
   "metadata": {},
   "outputs": [],
   "source": [
    "import tensorflow as tf\n",
    "\n",
    "def fc_no_activation_layer(in_tensors, n_units):\n",
    "    initializer = tf.initializers.GlorotUniform()\n",
    "    constinitializer = tf.constant_initializer(0.0)\n",
    "    w = tf.Variable(initializer(shape = [in_tensors.get_shape()[1], n_units]), dtype=tf.float32, name='fc_W')\n",
    "    b = tf.Variable(constinitializer(shape = [n_units, ]), dtype = tf.float32, name='fc_b')\n",
    "    return tf.matmul(in_tensors, w) + b\n",
    "\n",
    "def fc_layer(in_tensors, n_units):\n",
    "    return tf.nn.leaky_relu(fc_no_activation_layer(in_tensors, n_units))\n",
    "\n",
    "def maxpool_layer(in_tensors, sampling):\n",
    "    return tf.nn.max_pool(in_tensors, [1, sampling, sampling, 1], [1, sampling, sampling, 1], 'SAME')\n",
    "\n",
    "def conv_layer(in_tensors, kernel_size, n_units):\n",
    "    initializer = tf.initializers.GlorotNormal()\n",
    "    constinitializer = tf.constant_initializer(0.0)\n",
    "    w = tf.Variable(initializer([kernel_size, kernel_size, in_tensors.get_shape()[3], n_units]), dtype=tf.float32, name='conv_W')\n",
    "    b = tf.Variable(constinitializer([n_units, ]), dtype = tf.float32, name='conv_b')\n",
    "    return tf.nn.leaky_relu(tf.nn.conv2d(in_tensors, w, [1, 1, 1, 1], 'SAME') + b)\n",
    "\n",
    "def dropout(in_tensors, keep_proba, is_training):\n",
    "    return tf.cond(is_training, lambda: tf.nn.dropout(in_tensors, keep_proba), lambda: in_tensors)\n",
    "\n",
    "  \n",
    "def model(in_tensors, is_training):\n",
    "  \n",
    "  # First layer: 5x5 2d-conv, 32 filters, 2x maxpool, 20% drouput\n",
    "  with tf.compat.v1.variable_scope ('l1'):\n",
    "    l1 = maxpool_layer(conv_layer(in_tensors, 5, 32), 2)\n",
    "    l1_out = dropout(l1, 0.8, is_training)\n",
    " # Second layer: 5x5 2d-conv, 64 filters, 2x maxpool, 20% drouput\n",
    "  with tf.compat.v1.variable_scope ('l2'):\n",
    "    l2 = maxpool_layer(conv_layer(l1_out, 5, 64), 2)\n",
    "    l2_out = dropout(l2, 0.8, is_training)\n",
    "    \n",
    "  with tf.compat.v1.variable_scope('flatten'):\n",
    "    l2_out_flat = tf.keras.layers.Flatten() ()\n",
    "  \n",
    "  # Fully collected layer, 1024 neurons, 40% dropout \n",
    "  with tf.compat.v1.variable_scope ('l3'):\n",
    "    l3 = fc_layer(l2_out_flat, 1024)\n",
    "    l3_out = dropout(l3, 0.6, is_training)\n",
    "  \n",
    "  # Output\n",
    "  with tf.compat.v1.variable_scope ('out'):\n",
    "    out_tensors = fc_no_activation_layer(l3_out, N_CLASSES)\n",
    "  \n",
    "  return out_tensors"
   ]
  },
  {
   "cell_type": "code",
   "execution_count": 55,
   "id": "b5cc7910",
   "metadata": {},
   "outputs": [],
   "source": [
    "from sklearn.metrics import classification_report, confusion_matrix\n",
    "\n",
    "\n",
    "def train_model(X_train, y_train, X_test, y_test, learning_rate, max_epochs, batch_size):\n",
    "\n",
    "  in_X_tensors_batch = tf.compat.v1.placeholder(tf.float32, shape = (None, RESIZED_IMAGE[0], RESIZED_IMAGE[1], 1))\n",
    "  in_y_tensors_batch = tf.compat.v1.placeholder(tf.float32, shape = (None, N_CLASSES))\n",
    "  is_training = tf.compat.v1.placeholder(tf.bool)\n",
    "\n",
    "  logits = model(in_X_tensors_batch, is_training)\n",
    "  out_y_pred = tf.nn.softmax(logits)\n",
    "  loss_score = tf.nn.softmax_cross_entropy_with_logits(logits=logits, labels=in_y_tensors_batch)\n",
    "  loss = tf.math.reduce_mean(loss_score)\n",
    "  optimizer = tf.compat.v1.train.AdamOptimizer(learning_rate).minimize(loss)\n",
    "\n",
    "  with tf.compat.v1.Session() as session:\n",
    "    session.run(tf.compat.v1.global_variables_initializer())\n",
    "\n",
    "    for epoch in range(max_epochs):\n",
    "      print(\"Epoch=\", epoch) # just change it to tf.print\n",
    "      tf_score = []\n",
    "      \n",
    "      for mb in minibatcher(X_train, y_train, batch_size, shuffle = True):\n",
    "        tf_output = session.run([optimizer, loss], \n",
    "                                feed_dict = {in_X_tensors_batch : mb[0], \n",
    "                                             in_y_tensors_batch : mb[1],\n",
    "                                             is_training : True})\n",
    "      \n",
    "        tf_score.append(tf_output[1])\n",
    "      print(\" train_loss_score=\", np.mean(tf_score))\n",
    "    \n",
    "    # after the training is done, time to test it on the test set\n",
    "    print(\"TEST SET PERFORMANCE\")\n",
    "    y_test_pred, test_loss  = session.run([out_y_pred, loss], \n",
    "                                          feed_dict = {in_X_tensors_batch : X_test, \n",
    "                                                       in_y_tensors_batch : y_test,\n",
    "                                                       is_training : False})\n",
    "    print(\" test_loss_score=\", test_loss)\n",
    "    y_test_pred_classified = np.argmax(y_test_pred, axis=1).astype(np.int32)\n",
    "    y_test_true_classified = np.argmax(y_test, axis=1).astype(np.int32)\n",
    "    print(classification_report(y_test_true_classified, y_test_pred_classified))\n",
    "    \n",
    "    cm = confusion_matrix(y_test_true_classified, y_test_pred_classified)\n",
    "    \n",
    "    plt.imshow(cm, interpolation='nearest', cmap=plt.cm.Blues)\n",
    "    plt.colorbar()\n",
    "    plt.tight_layout()\n",
    "    plt.show()\n",
    "    \n",
    "    # And the log2 version, to enphasize the misclassifications\n",
    "    plt.imshow(np.log2(cm + 1), interpolation='nearest', cmap=plt.get_cmap(\"tab20\"))\n",
    "    plt.colorbar()\n",
    "    plt.tight_layout()\n",
    "    plt.show()\n",
    "    \n",
    "    tf.compat.v1.disable_eager_execution()"
   ]
  },
  {
   "cell_type": "code",
   "execution_count": 56,
   "id": "4c9757ca",
   "metadata": {},
   "outputs": [
    {
     "name": "stdout",
     "output_type": "stream",
     "text": [
      "Epoch= 0\n",
      " train_loss_score= 11.348617\n",
      "Epoch= 1\n",
      " train_loss_score= 3.8229818\n",
      "Epoch= 2\n",
      " train_loss_score= 2.9324186\n",
      "Epoch= 3\n",
      " train_loss_score= 2.3188615\n",
      "Epoch= 4\n",
      " train_loss_score= 1.9199191\n",
      "Epoch= 5\n",
      " train_loss_score= 1.635397\n",
      "Epoch= 6\n",
      " train_loss_score= 1.4123863\n",
      "Epoch= 7\n",
      " train_loss_score= 1.287708\n",
      "Epoch= 8\n",
      " train_loss_score= 1.1701579\n",
      "Epoch= 9\n",
      " train_loss_score= 1.0694013\n",
      "TEST SET PERFORMANCE\n",
      " test_loss_score= 0.41481093\n",
      "              precision    recall  f1-score   support\n",
      "\n",
      "           0       1.00      0.55      0.71        67\n",
      "           1       0.84      0.78      0.81       539\n",
      "           2       0.91      0.69      0.79       558\n",
      "           3       0.92      0.82      0.87       364\n",
      "           4       0.65      0.96      0.77       487\n",
      "           5       0.81      0.77      0.79       479\n",
      "           6       0.87      1.00      0.93       105\n",
      "           7       0.84      0.82      0.83       364\n",
      "           8       0.74      0.87      0.80       340\n",
      "           9       0.97      0.95      0.96       384\n",
      "          10       0.98      0.93      0.95       513\n",
      "          11       0.97      0.83      0.89       334\n",
      "          12       0.96      0.97      0.97       545\n",
      "          13       0.99      0.99      0.99       537\n",
      "          14       0.92      0.99      0.95       213\n",
      "          15       0.85      0.98      0.91       164\n",
      "          16       1.00      0.97      0.98        98\n",
      "          17       1.00      0.99      1.00       281\n",
      "          18       0.92      0.91      0.91       286\n",
      "          19       0.93      0.66      0.77        56\n",
      "          20       0.72      0.87      0.79        78\n",
      "          21       0.64      0.87      0.74        95\n",
      "          22       1.00      0.95      0.97        97\n",
      "          23       0.92      0.78      0.85       123\n",
      "          24       0.52      0.95      0.67        77\n",
      "          25       0.95      0.98      0.96       401\n",
      "          26       0.75      0.99      0.85       135\n",
      "          27       0.82      0.52      0.63        60\n",
      "          28       0.75      0.97      0.84       123\n",
      "          29       0.98      0.64      0.77        69\n",
      "          30       0.97      0.60      0.74       115\n",
      "          31       0.94      0.79      0.86       178\n",
      "          32       0.92      0.89      0.91        55\n",
      "          33       0.99      0.96      0.97       177\n",
      "          34       0.97      0.96      0.97       103\n",
      "          35       0.99      0.98      0.98       277\n",
      "          36       0.99      0.95      0.97        78\n",
      "          37       0.98      0.97      0.98        63\n",
      "          38       0.98      0.96      0.97       540\n",
      "          39       1.00      0.90      0.95        60\n",
      "          40       0.79      0.76      0.78        85\n",
      "          41       1.00      0.91      0.96        47\n",
      "          42       1.00      0.89      0.94        53\n",
      "\n",
      "    accuracy                           0.89      9803\n",
      "   macro avg       0.90      0.87      0.88      9803\n",
      "weighted avg       0.90      0.89      0.89      9803\n",
      "\n"
     ]
    },
    {
     "data": {
      "image/png": "[encoded data removed]",
      "text/plain": [
       "<Figure size 432x288 with 2 Axes>"
      ]
     },
     "metadata": {
      "needs_background": "light"
     },
     "output_type": "display_data"
    },
    {
     "data": {
      "image/png": "[encoded data removed]",
      "text/plain": [
       "<Figure size 432x288 with 2 Axes>"
      ]
     },
     "metadata": {
      "needs_background": "light"
     },
     "output_type": "display_data"
    }
   ],
   "source": [
    "tf.compat.v1.reset_default_graph()\n",
    "train_model(X_train, y_train, X_test, y_test, 0.001, 10, 256)"
   ]
  },
  {
   "cell_type": "code",
   "execution_count": null,
   "id": "91549585",
   "metadata": {},
   "outputs": [],
   "source": []
  }
 ],
 "metadata": {
  "kernelspec": {
   "display_name": "Python 3",
   "language": "python",
   "name": "python3"
  },
  "language_info": {
   "codemirror_mode": {
    "name": "ipython",
    "version": 3
   },
   "file_extension": ".py",
   "mimetype": "text/x-python",
   "name": "python",
   "nbconvert_exporter": "python",
   "pygments_lexer": "ipython3",
   "version": "3.8.8"
  }
 },
 "nbformat": 4,
 "nbformat_minor": 5
}
